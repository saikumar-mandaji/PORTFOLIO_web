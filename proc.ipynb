{
 "cells": [
  {
   "cell_type": "code",
   "execution_count": null,
   "metadata": {},
   "outputs": [],
   "source": [
    "# https://github.com/soumyajit4419/Portfolio"
   ]
  },
  {
   "cell_type": "markdown",
   "metadata": {},
   "source": [
    "## https://github.com/soumyajit4419/Portfolio\n",
    "# https://github.com/ashutosh1919/masterPortfolio\n",
    "# https://github.com/rajaprerak/rajaprerak.github.io?tab=readme-ov-file \n",
    "# https://github.com/enjeck/gfolio?tab=readme-ov-file\n",
    "# https://github.com/Shivang1179793/My-personal-Portfolio-Website?tab=readme-ov-file\n",
    "# \n",
    "# \n",
    "# \n",
    "# \n"
   ]
  },
  {
   "cell_type": "markdown",
   "metadata": {},
   "source": []
  }
 ],
 "metadata": {
  "language_info": {
   "name": "python"
  }
 },
 "nbformat": 4,
 "nbformat_minor": 2
}
